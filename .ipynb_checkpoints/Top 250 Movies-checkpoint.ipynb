{
 "cells": [
  {
   "cell_type": "markdown",
   "metadata": {},
   "source": [
    "# Scrapping Data For Top 250 Movies"
   ]
  },
  {
   "cell_type": "markdown",
   "metadata": {},
   "source": [
    "## Import Necessary Modules"
   ]
  },
  {
   "cell_type": "code",
   "execution_count": 1,
   "metadata": {},
   "outputs": [],
   "source": [
    "import requests\n",
    "import html5lib\n",
    "from bs4 import BeautifulSoup\n",
    "import pandas as pd"
   ]
  },
  {
   "cell_type": "markdown",
   "metadata": {},
   "source": [
    "## Retrieving the HTML Response from IMDB Website"
   ]
  },
  {
   "cell_type": "code",
   "execution_count": 2,
   "metadata": {},
   "outputs": [],
   "source": [
    "url=\"https://www.imdb.com/chart/top/\""
   ]
  },
  {
   "cell_type": "code",
   "execution_count": 3,
   "metadata": {},
   "outputs": [
    {
     "name": "stdout",
     "output_type": "stream",
     "text": [
      "Connection Established!\n"
     ]
    }
   ],
   "source": [
    "response = requests.get(url)\n",
    "status = response.status_code\n",
    "if status == 200:\n",
    "    print(\"Connection Established!\")"
   ]
  },
  {
   "cell_type": "code",
   "execution_count": 4,
   "metadata": {},
   "outputs": [],
   "source": [
    "HTMLContent = response.content\n",
    "# HTMLContent"
   ]
  },
  {
   "cell_type": "markdown",
   "metadata": {},
   "source": [
    "## Parsing HTML Response or Creating The Soup"
   ]
  },
  {
   "cell_type": "code",
   "execution_count": 5,
   "metadata": {},
   "outputs": [],
   "source": [
    "soup = BeautifulSoup(HTMLContent,'html.parser')\n",
    "# print(soup.prettify)"
   ]
  },
  {
   "cell_type": "markdown",
   "metadata": {},
   "source": [
    "## Extracting Data from soup"
   ]
  },
  {
   "cell_type": "code",
   "execution_count": 6,
   "metadata": {},
   "outputs": [],
   "source": [
    "title=[]\n",
    "rating=[]\n",
    "num_of_user_ratings=[]\n",
    "link=[]\n",
    "image_url=[]"
   ]
  },
  {
   "cell_type": "code",
   "execution_count": 7,
   "metadata": {},
   "outputs": [],
   "source": [
    "table_data = soup.find('tbody')\n",
    "for row in table_data.children:\n",
    "    if row.name != None:\n",
    "        image_column= row.td\n",
    "        image_url.append(image_column.img.get('src'))\n",
    "        title_column = image_column.next_sibling.next_sibling\n",
    "        title.append(title_column.a.string)\n",
    "        link.append(\"https://www.imdb.com\"+title_column.a.get('href'))\n",
    "        rating_column = title_column.next_sibling.next_sibling\n",
    "        num_of_user_ratings.append(rating_column.strong.get('title').split(\" \")[3])\n",
    "        rating.append(rating_column.strong.string)\n",
    "        "
   ]
  },
  {
   "cell_type": "code",
   "execution_count": 8,
   "metadata": {},
   "outputs": [],
   "source": [
    "# for i in range(len(title)):\n",
    "#     print(title[i],rating[i],num_of_user_ratings[i],link[i],image_url[i])"
   ]
  },
  {
   "cell_type": "markdown",
   "metadata": {},
   "source": [
    "## Inserting Data into a Pandas DataFrame"
   ]
  },
  {
   "cell_type": "code",
   "execution_count": 11,
   "metadata": {},
   "outputs": [
    {
     "data": {
      "text/html": [
       "<div>\n",
       "<style scoped>\n",
       "    .dataframe tbody tr th:only-of-type {\n",
       "        vertical-align: middle;\n",
       "    }\n",
       "\n",
       "    .dataframe tbody tr th {\n",
       "        vertical-align: top;\n",
       "    }\n",
       "\n",
       "    .dataframe thead th {\n",
       "        text-align: right;\n",
       "    }\n",
       "</style>\n",
       "<table border=\"1\" class=\"dataframe\">\n",
       "  <thead>\n",
       "    <tr style=\"text-align: right;\">\n",
       "      <th></th>\n",
       "      <th>Title</th>\n",
       "      <th>Rating</th>\n",
       "      <th>Number Of User Ratings</th>\n",
       "      <th>Rating Page</th>\n",
       "      <th>Image</th>\n",
       "    </tr>\n",
       "  </thead>\n",
       "  <tbody>\n",
       "    <tr>\n",
       "      <th>0</th>\n",
       "      <td>The Shawshank Redemption</td>\n",
       "      <td>9.2</td>\n",
       "      <td>2,285,530</td>\n",
       "      <td>https://www.imdb.com/title/tt0111161/</td>\n",
       "      <td>https://m.media-amazon.com/images/M/MV5BMDFkYT...</td>\n",
       "    </tr>\n",
       "    <tr>\n",
       "      <th>1</th>\n",
       "      <td>The Godfather</td>\n",
       "      <td>9.1</td>\n",
       "      <td>1,577,662</td>\n",
       "      <td>https://www.imdb.com/title/tt0068646/</td>\n",
       "      <td>https://m.media-amazon.com/images/M/MV5BM2MyNj...</td>\n",
       "    </tr>\n",
       "    <tr>\n",
       "      <th>2</th>\n",
       "      <td>The Godfather: Part II</td>\n",
       "      <td>9.0</td>\n",
       "      <td>1,102,273</td>\n",
       "      <td>https://www.imdb.com/title/tt0071562/</td>\n",
       "      <td>https://m.media-amazon.com/images/M/MV5BMWMwMG...</td>\n",
       "    </tr>\n",
       "    <tr>\n",
       "      <th>3</th>\n",
       "      <td>The Dark Knight</td>\n",
       "      <td>9.0</td>\n",
       "      <td>2,250,238</td>\n",
       "      <td>https://www.imdb.com/title/tt0468569/</td>\n",
       "      <td>https://m.media-amazon.com/images/M/MV5BMTMxNT...</td>\n",
       "    </tr>\n",
       "    <tr>\n",
       "      <th>4</th>\n",
       "      <td>12 Angry Men</td>\n",
       "      <td>8.9</td>\n",
       "      <td>671,080</td>\n",
       "      <td>https://www.imdb.com/title/tt0050083/</td>\n",
       "      <td>https://m.media-amazon.com/images/M/MV5BMWU4N2...</td>\n",
       "    </tr>\n",
       "    <tr>\n",
       "      <th>...</th>\n",
       "      <td>...</td>\n",
       "      <td>...</td>\n",
       "      <td>...</td>\n",
       "      <td>...</td>\n",
       "      <td>...</td>\n",
       "    </tr>\n",
       "    <tr>\n",
       "      <th>245</th>\n",
       "      <td>La battaglia di Algeri</td>\n",
       "      <td>8.0</td>\n",
       "      <td>51,407</td>\n",
       "      <td>https://www.imdb.com/title/tt0058946/</td>\n",
       "      <td>https://m.media-amazon.com/images/M/MV5BZWEzMG...</td>\n",
       "    </tr>\n",
       "    <tr>\n",
       "      <th>246</th>\n",
       "      <td>Mandariinid</td>\n",
       "      <td>8.0</td>\n",
       "      <td>37,687</td>\n",
       "      <td>https://www.imdb.com/title/tt2991224/</td>\n",
       "      <td>https://m.media-amazon.com/images/M/MV5BMTgwNz...</td>\n",
       "    </tr>\n",
       "    <tr>\n",
       "      <th>247</th>\n",
       "      <td>Aladdin</td>\n",
       "      <td>8.0</td>\n",
       "      <td>365,211</td>\n",
       "      <td>https://www.imdb.com/title/tt0103639/</td>\n",
       "      <td>https://m.media-amazon.com/images/M/MV5BY2Q2ND...</td>\n",
       "    </tr>\n",
       "    <tr>\n",
       "      <th>248</th>\n",
       "      <td>Trois couleurs: Rouge</td>\n",
       "      <td>8.0</td>\n",
       "      <td>88,149</td>\n",
       "      <td>https://www.imdb.com/title/tt0111495/</td>\n",
       "      <td>https://m.media-amazon.com/images/M/MV5BYTg1Mm...</td>\n",
       "    </tr>\n",
       "    <tr>\n",
       "      <th>249</th>\n",
       "      <td>A Wednesday</td>\n",
       "      <td>8.0</td>\n",
       "      <td>72,756</td>\n",
       "      <td>https://www.imdb.com/title/tt1280558/</td>\n",
       "      <td>https://m.media-amazon.com/images/M/MV5BOTcwMz...</td>\n",
       "    </tr>\n",
       "  </tbody>\n",
       "</table>\n",
       "<p>250 rows × 5 columns</p>\n",
       "</div>"
      ],
      "text/plain": [
       "                        Title Rating Number Of User Ratings  \\\n",
       "0    The Shawshank Redemption    9.2              2,285,530   \n",
       "1               The Godfather    9.1              1,577,662   \n",
       "2      The Godfather: Part II    9.0              1,102,273   \n",
       "3             The Dark Knight    9.0              2,250,238   \n",
       "4                12 Angry Men    8.9                671,080   \n",
       "..                        ...    ...                    ...   \n",
       "245    La battaglia di Algeri    8.0                 51,407   \n",
       "246               Mandariinid    8.0                 37,687   \n",
       "247                   Aladdin    8.0                365,211   \n",
       "248     Trois couleurs: Rouge    8.0                 88,149   \n",
       "249               A Wednesday    8.0                 72,756   \n",
       "\n",
       "                               Rating Page  \\\n",
       "0    https://www.imdb.com/title/tt0111161/   \n",
       "1    https://www.imdb.com/title/tt0068646/   \n",
       "2    https://www.imdb.com/title/tt0071562/   \n",
       "3    https://www.imdb.com/title/tt0468569/   \n",
       "4    https://www.imdb.com/title/tt0050083/   \n",
       "..                                     ...   \n",
       "245  https://www.imdb.com/title/tt0058946/   \n",
       "246  https://www.imdb.com/title/tt2991224/   \n",
       "247  https://www.imdb.com/title/tt0103639/   \n",
       "248  https://www.imdb.com/title/tt0111495/   \n",
       "249  https://www.imdb.com/title/tt1280558/   \n",
       "\n",
       "                                                 Image  \n",
       "0    https://m.media-amazon.com/images/M/MV5BMDFkYT...  \n",
       "1    https://m.media-amazon.com/images/M/MV5BM2MyNj...  \n",
       "2    https://m.media-amazon.com/images/M/MV5BMWMwMG...  \n",
       "3    https://m.media-amazon.com/images/M/MV5BMTMxNT...  \n",
       "4    https://m.media-amazon.com/images/M/MV5BMWU4N2...  \n",
       "..                                                 ...  \n",
       "245  https://m.media-amazon.com/images/M/MV5BZWEzMG...  \n",
       "246  https://m.media-amazon.com/images/M/MV5BMTgwNz...  \n",
       "247  https://m.media-amazon.com/images/M/MV5BY2Q2ND...  \n",
       "248  https://m.media-amazon.com/images/M/MV5BYTg1Mm...  \n",
       "249  https://m.media-amazon.com/images/M/MV5BOTcwMz...  \n",
       "\n",
       "[250 rows x 5 columns]"
      ]
     },
     "execution_count": 11,
     "metadata": {},
     "output_type": "execute_result"
    }
   ],
   "source": [
    "df=pd.DataFrame({\"Title\":title,\"Rating\":rating,\"Number Of User Ratings\":num_of_user_ratings,\"Rating Page\":link,\"Image\":image_url})\n",
    "df"
   ]
  },
  {
   "cell_type": "markdown",
   "metadata": {},
   "source": [
    "### I am planning to extract more data from rating page and display all this data on a django website..."
   ]
  }
 ],
 "metadata": {
  "kernelspec": {
   "display_name": "Python 3",
   "language": "python",
   "name": "python3"
  },
  "language_info": {
   "codemirror_mode": {
    "name": "ipython",
    "version": 3
   },
   "file_extension": ".py",
   "mimetype": "text/x-python",
   "name": "python",
   "nbconvert_exporter": "python",
   "pygments_lexer": "ipython3",
   "version": "3.7.3"
  }
 },
 "nbformat": 4,
 "nbformat_minor": 4
}
